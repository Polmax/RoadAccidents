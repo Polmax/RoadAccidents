{
 "cells": [
  {
   "cell_type": "markdown",
   "metadata": {},
   "source": [
    "## This notebook is used to split the image dataset into training and testing portions"
   ]
  },
  {
   "cell_type": "code",
   "execution_count": 1,
   "metadata": {},
   "outputs": [],
   "source": [
    "import numpy as np\n",
    "import shutil\n",
    "from random import shuffle\n",
    "import os\n",
    "import pathlib\n",
    "import matplotlib.pyplot as plt\n",
    "from sklearn.utils import shuffle\n",
    "import pandas as pd"
   ]
  },
  {
   "cell_type": "markdown",
   "metadata": {},
   "source": [
    "### Copy files from an original directory to their new directory "
   ]
  },
  {
   "cell_type": "code",
   "execution_count": 2,
   "metadata": {},
   "outputs": [],
   "source": [
    "def copy_files(files,old_directory,new_directory):\n",
    "  os.makedirs(new_directory,exist_ok=True)\n",
    "  for i in files:\n",
    "    os.makedirs(f\"{new_directory}/{i}\",exist_ok=True)\n",
    "    for f in files[i]:\n",
    "      shutil.copyfile(f\"{old_directory}/{i}/{f}\",f\"{new_directory}/{i}/{f}\")"
   ]
  },
  {
   "cell_type": "code",
   "execution_count": 3,
   "metadata": {},
   "outputs": [],
   "source": [
    "def get_dataset_filenames(PATH,SPLIT,TRAIN_PATH,TEST_PATH,BALANCE_DATASET=True):\n",
    "    \n",
    "    files = dict()\n",
    "    train = dict()\n",
    "    test = dict()\n",
    "\n",
    "    for i in os.listdir(f'{PATH}'):\n",
    "        files[i] = os.listdir(f'{PATH}/{i}')\n",
    "        print(f\"{i} {len(files[i])}\")\n",
    "\n",
    "\n",
    "    if BALANCE_DATASET:\n",
    "      min_categorie = min([len(files[x]) for x in files ])\n",
    "      for i in files:\n",
    "        x = files[i]\n",
    "        shuffle(x)\n",
    "        print(len(files[i]))\n",
    "        files[i] = x[:min_categorie]\n",
    "    \n",
    "    for i in files:\n",
    "      list_split = int(SPLIT * len(files[i]))\n",
    "      train[i] = list(files[i][:list_split])\n",
    "      test[i]  = list(files[i][list_split:])\n",
    "\n",
    "    categories = [i for i in files]\n",
    "    print(categories)\n",
    "    copy_files(train,PATH,TRAIN_PATH)\n",
    "    copy_files(test,PATH,TEST_PATH)\n",
    "\n",
    "\n",
    "    train_files =  sum([len(train[i]) for i in test])\n",
    "    test_files =  sum([len(test[i]) for i in test])\n",
    "\n",
    "    return (train_files,test_files,categories)"
   ]
  },
  {
   "cell_type": "code",
   "execution_count": 5,
   "metadata": {},
   "outputs": [
    {
     "name": "stdout",
     "output_type": "stream",
     "text": [
      "LEVEL1 25901\n",
      "LEVEL2 8278\n",
      "LEVEL3 3740\n",
      "25901\n",
      "8278\n",
      "3740\n",
      "['LEVEL1', 'LEVEL2', 'LEVEL3']\n"
     ]
    },
    {
     "data": {
      "text/plain": [
       "(8976, 2244, ['LEVEL1', 'LEVEL2', 'LEVEL3'])"
      ]
     },
     "execution_count": 5,
     "metadata": {},
     "output_type": "execute_result"
    }
   ],
   "source": [
    "TRAIN_PERC = 0.8\n",
    "TEST_PERC  = 0.2\n",
    "\n",
    "PATH = \"resized_images/portugal/MODEL2\"\n",
    "TRAIN_PATH = \"image_dataset/MODEL2/train\"\n",
    "TEST_PATH = \"image_dataset/MODEL2/test\"\n",
    "\n",
    "get_dataset_filenames(PATH,TRAIN_PERC,TRAIN_PATH,TEST_PATH,BALANCE_DATASET=True)\n"
   ]
  },
  {
   "cell_type": "markdown",
   "metadata": {},
   "source": [
    "### Second dataset version 2 since we use csv generators to load the dataset into keras we separate the csv containing the original labels into test and training csv files by dividing a shuffled version of dataset into  80% and 20% portions"
   ]
  },
  {
   "cell_type": "code",
   "execution_count": 4,
   "metadata": {},
   "outputs": [],
   "source": [
    "def train_test_split_no_categories(DATASET,TRAIN_PERC,TEST_PERC):\n",
    "    \n",
    "    shuffled_dataset = shuffle(DATASET)\n",
    "    \n",
    "    train_elements = int(len(shuffled_dataset) * TRAIN_PERC)\n",
    "    test_elements = int(len(shuffled_dataset) * TEST_PERC)\n",
    "    \n",
    "    \n",
    "    train_df = shuffled_dataset.head(train_elements)\n",
    "    test_df = shuffled_dataset.tail(test_elements)\n",
    "    \n",
    "    return (train_df,test_df)"
   ]
  },
  {
   "cell_type": "code",
   "execution_count": 5,
   "metadata": {},
   "outputs": [],
   "source": [
    "TRAIN_PERC = 0.8\n",
    "TEST_PERC  = 0.2\n",
    "\n",
    "DATASET = pd.read_csv(\"datasets/MODEL2_LABELS.csv\")\n",
    "DATASET['Unnamed: 0']\n",
    "train_df,test_df = train_test_split_no_categories(DATASET,TRAIN_PERC,TEST_PERC)"
   ]
  },
  {
   "cell_type": "code",
   "execution_count": 6,
   "metadata": {},
   "outputs": [
    {
     "name": "stdout",
     "output_type": "stream",
     "text": [
      "30335\n"
     ]
    },
    {
     "data": {
      "text/html": [
       "<div>\n",
       "<style scoped>\n",
       "    .dataframe tbody tr th:only-of-type {\n",
       "        vertical-align: middle;\n",
       "    }\n",
       "\n",
       "    .dataframe tbody tr th {\n",
       "        vertical-align: top;\n",
       "    }\n",
       "\n",
       "    .dataframe thead th {\n",
       "        text-align: right;\n",
       "    }\n",
       "</style>\n",
       "<table border=\"1\" class=\"dataframe\">\n",
       "  <thead>\n",
       "    <tr style=\"text-align: right;\">\n",
       "      <th></th>\n",
       "      <th>Unnamed: 0</th>\n",
       "      <th>location</th>\n",
       "      <th>label</th>\n",
       "    </tr>\n",
       "  </thead>\n",
       "  <tbody>\n",
       "    <tr>\n",
       "      <th>29582</th>\n",
       "      <td>29583</td>\n",
       "      <td>MODEL2_2/-8.497719530449713_-8.495478218635428...</td>\n",
       "      <td>0.000000</td>\n",
       "    </tr>\n",
       "    <tr>\n",
       "      <th>8697</th>\n",
       "      <td>8698</td>\n",
       "      <td>MODEL2_2/-8.4192736169497_-8.417032305135415_4...</td>\n",
       "      <td>0.000000</td>\n",
       "    </tr>\n",
       "    <tr>\n",
       "      <th>22804</th>\n",
       "      <td>22805</td>\n",
       "      <td>MODEL2_2/-8.59185462664973_-8.589613314835447_...</td>\n",
       "      <td>0.000000</td>\n",
       "    </tr>\n",
       "    <tr>\n",
       "      <th>36850</th>\n",
       "      <td>36851</td>\n",
       "      <td>MODEL2_2/-7.4062006768923805_-7.40395936507809...</td>\n",
       "      <td>0.683061</td>\n",
       "    </tr>\n",
       "    <tr>\n",
       "      <th>20394</th>\n",
       "      <td>20395</td>\n",
       "      <td>MODEL2_2/-8.970636323264081_-8.968395011449797...</td>\n",
       "      <td>0.000000</td>\n",
       "    </tr>\n",
       "  </tbody>\n",
       "</table>\n",
       "</div>"
      ],
      "text/plain": [
       "       Unnamed: 0                                           location     label\n",
       "29582       29583  MODEL2_2/-8.497719530449713_-8.495478218635428...  0.000000\n",
       "8697         8698  MODEL2_2/-8.4192736169497_-8.417032305135415_4...  0.000000\n",
       "22804       22805  MODEL2_2/-8.59185462664973_-8.589613314835447_...  0.000000\n",
       "36850       36851  MODEL2_2/-7.4062006768923805_-7.40395936507809...  0.683061\n",
       "20394       20395  MODEL2_2/-8.970636323264081_-8.968395011449797...  0.000000"
      ]
     },
     "execution_count": 6,
     "metadata": {},
     "output_type": "execute_result"
    }
   ],
   "source": [
    "print(len(train_df))\n",
    "train_df.head()"
   ]
  },
  {
   "cell_type": "code",
   "execution_count": 14,
   "metadata": {},
   "outputs": [
    {
     "name": "stdout",
     "output_type": "stream",
     "text": [
      "7583\n",
      "29582    0.000000\n",
      "8697     0.000000\n",
      "22804    0.000000\n",
      "36850    0.683061\n",
      "20394    0.000000\n",
      "           ...   \n",
      "37099    0.000000\n",
      "31096    0.000000\n",
      "9763     0.000000\n",
      "8638     0.683061\n",
      "27877    0.000000\n",
      "Name: label, Length: 30335, dtype: float64\n"
     ]
    }
   ],
   "source": [
    "print(len(test_df))\n",
    "test_df.head()\n",
    "\n",
    "print(train_df['label'])"
   ]
  },
  {
   "cell_type": "code",
   "execution_count": 24,
   "metadata": {},
   "outputs": [],
   "source": [
    "train_df.to_csv(\"datasets/model2_2_train.csv\")"
   ]
  },
  {
   "cell_type": "code",
   "execution_count": 25,
   "metadata": {},
   "outputs": [],
   "source": [
    "test_df.to_csv(\"datasets/model2_2_test.csv\")"
   ]
  },
  {
   "cell_type": "code",
   "execution_count": 15,
   "metadata": {},
   "outputs": [],
   "source": [
    "train_m2_v2 = pd.read_csv(\"datasets/model2_2_train.csv\")"
   ]
  },
  {
   "cell_type": "code",
   "execution_count": 21,
   "metadata": {},
   "outputs": [
    {
     "data": {
      "text/plain": [
       "Unnamed: 0        int64\n",
       "Unnamed: 0.1      int64\n",
       "location         object\n",
       "label           float64\n",
       "dtype: object"
      ]
     },
     "execution_count": 21,
     "metadata": {},
     "output_type": "execute_result"
    }
   ],
   "source": [
    "train_m2_v2.dtypes"
   ]
  },
  {
   "cell_type": "code",
   "execution_count": null,
   "metadata": {},
   "outputs": [],
   "source": []
  }
 ],
 "metadata": {
  "kernelspec": {
   "display_name": "Python 3",
   "language": "python",
   "name": "python3"
  },
  "language_info": {
   "codemirror_mode": {
    "name": "ipython",
    "version": 3
   },
   "file_extension": ".py",
   "mimetype": "text/x-python",
   "name": "python",
   "nbconvert_exporter": "python",
   "pygments_lexer": "ipython3",
   "version": "3.7.7"
  }
 },
 "nbformat": 4,
 "nbformat_minor": 4
}
