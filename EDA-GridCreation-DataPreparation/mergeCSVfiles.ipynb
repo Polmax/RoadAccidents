{
 "cells": [
  {
   "cell_type": "markdown",
   "metadata": {},
   "source": [
    "## Merge the different years csv files "
   ]
  },
  {
   "cell_type": "code",
   "execution_count": 1,
   "metadata": {},
   "outputs": [],
   "source": [
    "import os\n",
    "import glob\n",
    "import pandas as pd\n",
    "\n",
    "os.chdir(\"datasets\")"
   ]
  },
  {
   "cell_type": "code",
   "execution_count": 2,
   "metadata": {
    "scrolled": true
   },
   "outputs": [
    {
     "name": "stdout",
     "output_type": "stream",
     "text": [
      "['anpc-2016.csv', 'anpc-2017.csv', 'anpc-2018.csv', 'anpc-2019.csv', 'anpc-2020.csv']\n"
     ]
    }
   ],
   "source": [
    "extension = 'csv'\n",
    "all_filenames = [i for i in glob.glob(f'*.{extension}')]\n",
    "print(all_filenames)"
   ]
  },
  {
   "cell_type": "markdown",
   "metadata": {},
   "source": [
    "### Use the cell bellow to concatenate the original day files extracted form anpc website"
   ]
  },
  {
   "cell_type": "code",
   "execution_count": 3,
   "metadata": {},
   "outputs": [
    {
     "name": "stderr",
     "output_type": "stream",
     "text": [
      "C:\\Users\\hugoa\\Anaconda3\\lib\\site-packages\\IPython\\core\\interactiveshell.py:3249: DtypeWarning: Columns (0) have mixed types. Specify dtype option on import or set low_memory=False.\n",
      "  if (await self.run_code(code, result,  async_=asy)):\n"
     ]
    }
   ],
   "source": [
    "CSV_NAME = \"total-accidents-anpc\"\n",
    "combined_csv = pd.concat([pd.read_csv(f,delimiter=\",\",encoding='latin',error_bad_lines=False) for f in all_filenames])\n",
    "combined_csv.to_csv(f\"{CSV_NAME}.{extension}\",index = False)"
   ]
  },
  {
   "cell_type": "markdown",
   "metadata": {},
   "source": [
    "### Use the cell bellow to concatenate the merged year csv files"
   ]
  },
  {
   "cell_type": "code",
   "execution_count": 4,
   "metadata": {},
   "outputs": [],
   "source": [
    "CSV_NAME = \"total-accidents-anpc\"\n",
    "combined_csv = pd.concat([pd.read_csv(f,delimiter=\",\",error_bad_lines=False) for f in all_filenames])\n",
    "combined_csv.to_csv(f\"{CSV_NAME}.{extension}\",index = False)"
   ]
  },
  {
   "cell_type": "code",
   "execution_count": 10,
   "metadata": {},
   "outputs": [],
   "source": [
    "new_csv = pd.read_csv(f\"{CSV_NAME}.{extension}\",delimiter=\",\")"
   ]
  },
  {
   "cell_type": "code",
   "execution_count": 11,
   "metadata": {},
   "outputs": [
    {
     "data": {
      "text/plain": [
       "862377"
      ]
     },
     "execution_count": 11,
     "metadata": {},
     "output_type": "execute_result"
    }
   ],
   "source": [
    "len(new_csv)"
   ]
  },
  {
   "cell_type": "code",
   "execution_count": 12,
   "metadata": {},
   "outputs": [
    {
     "data": {
      "text/html": [
       "<div>\n",
       "<style scoped>\n",
       "    .dataframe tbody tr th:only-of-type {\n",
       "        vertical-align: middle;\n",
       "    }\n",
       "\n",
       "    .dataframe tbody tr th {\n",
       "        vertical-align: top;\n",
       "    }\n",
       "\n",
       "    .dataframe thead th {\n",
       "        text-align: right;\n",
       "    }\n",
       "</style>\n",
       "<table border=\"1\" class=\"dataframe\">\n",
       "  <thead>\n",
       "    <tr style=\"text-align: right;\">\n",
       "      <th></th>\n",
       "      <th>Numero</th>\n",
       "      <th>DataOcorrencia</th>\n",
       "      <th>DataFechoOperacional</th>\n",
       "      <th>Natureza</th>\n",
       "      <th>EstadoOcorrencia</th>\n",
       "      <th>Distrito</th>\n",
       "      <th>Concelho</th>\n",
       "      <th>Freguesia</th>\n",
       "      <th>Localidade</th>\n",
       "      <th>Latitude</th>\n",
       "      <th>Longitude</th>\n",
       "      <th>NumeroMeiosTerrestresEnvolvidos</th>\n",
       "      <th>NumeroOperacionaisTerrestresEnvolvidos</th>\n",
       "      <th>NumeroMeiosAereosEnvolvidos</th>\n",
       "      <th>NumeroOperacionaisAereosEnvolvidos</th>\n",
       "    </tr>\n",
       "  </thead>\n",
       "  <tbody>\n",
       "    <tr>\n",
       "      <td>0</td>\n",
       "      <td>2016150002576</td>\n",
       "      <td>09/01/2016 14:02:00</td>\n",
       "      <td>09/01/2016 17:30:00</td>\n",
       "      <td>Protecção e Assistência a Pessoas e Bens / Ass...</td>\n",
       "      <td>Encerrada</td>\n",
       "      <td>SETÚBAL</td>\n",
       "      <td>MOITA</td>\n",
       "      <td>Gaio-Rosário e Sarilhos Pequenos</td>\n",
       "      <td>Gaio- Rosario</td>\n",
       "      <td>38,68091202</td>\n",
       "      <td>-9,002235449</td>\n",
       "      <td>1.0</td>\n",
       "      <td>3.0</td>\n",
       "      <td>0.0</td>\n",
       "      <td>0.0</td>\n",
       "    </tr>\n",
       "    <tr>\n",
       "      <td>1</td>\n",
       "      <td>2016010098470</td>\n",
       "      <td>10/01/2016 00:30:00</td>\n",
       "      <td>NaN</td>\n",
       "      <td>Protecção e Assistência a Pessoas e Bens / Ass...</td>\n",
       "      <td>Em Curso</td>\n",
       "      <td>AVEIRO</td>\n",
       "      <td>ALBERGARIA-A-VELHA</td>\n",
       "      <td>Albergaria-a-Velha e Valmaior</td>\n",
       "      <td>Rua 25 de Abril - Assilhó - Albergaria-a-Velha</td>\n",
       "      <td>40,6927855</td>\n",
       "      <td>-8,479686736</td>\n",
       "      <td>0.0</td>\n",
       "      <td>0.0</td>\n",
       "      <td>0.0</td>\n",
       "      <td>0.0</td>\n",
       "    </tr>\n",
       "    <tr>\n",
       "      <td>2</td>\n",
       "      <td>2016020002249</td>\n",
       "      <td>24/01/2016 18:57:00</td>\n",
       "      <td>24/01/2016 19:53:00</td>\n",
       "      <td>Protecção e Assistência a Pessoas e Bens / Ass...</td>\n",
       "      <td>Encerrada</td>\n",
       "      <td>BEJA</td>\n",
       "      <td>CASTRO VERDE</td>\n",
       "      <td>Castro Verde e Casével</td>\n",
       "      <td>CASTRO VERDE-Rua Bento J. Carraça,6</td>\n",
       "      <td>37,71278977</td>\n",
       "      <td>-8,091107843</td>\n",
       "      <td>2.0</td>\n",
       "      <td>4.0</td>\n",
       "      <td>0.0</td>\n",
       "      <td>0.0</td>\n",
       "    </tr>\n",
       "    <tr>\n",
       "      <td>3</td>\n",
       "      <td>2016050041560</td>\n",
       "      <td>30/01/2016 23:38:00</td>\n",
       "      <td>NaN</td>\n",
       "      <td>Protecção e Assistência a Pessoas e Bens / Ass...</td>\n",
       "      <td>Em Curso</td>\n",
       "      <td>CASTELO BRANCO</td>\n",
       "      <td>VILA DE REI</td>\n",
       "      <td>Vila de Rei</td>\n",
       "      <td>Vila de Rei</td>\n",
       "      <td>39,6684201</td>\n",
       "      <td>-8,146938534</td>\n",
       "      <td>1.0</td>\n",
       "      <td>2.0</td>\n",
       "      <td>0.0</td>\n",
       "      <td>0.0</td>\n",
       "    </tr>\n",
       "    <tr>\n",
       "      <td>4</td>\n",
       "      <td>2016020003825</td>\n",
       "      <td>13/02/2016 00:10:00</td>\n",
       "      <td>13/02/2016 01:35:00</td>\n",
       "      <td>Protecção e Assistência a Pessoas e Bens / Ass...</td>\n",
       "      <td>Encerrada</td>\n",
       "      <td>BEJA</td>\n",
       "      <td>CASTRO VERDE</td>\n",
       "      <td>Santa Bárbara de Padrões</td>\n",
       "      <td>SETE-Rua da Graça, 4</td>\n",
       "      <td>37,6149714</td>\n",
       "      <td>-7,962115173</td>\n",
       "      <td>1.0</td>\n",
       "      <td>2.0</td>\n",
       "      <td>0.0</td>\n",
       "      <td>0.0</td>\n",
       "    </tr>\n",
       "  </tbody>\n",
       "</table>\n",
       "</div>"
      ],
      "text/plain": [
       "          Numero       DataOcorrencia DataFechoOperacional  \\\n",
       "0  2016150002576  09/01/2016 14:02:00  09/01/2016 17:30:00   \n",
       "1  2016010098470  10/01/2016 00:30:00                  NaN   \n",
       "2  2016020002249  24/01/2016 18:57:00  24/01/2016 19:53:00   \n",
       "3  2016050041560  30/01/2016 23:38:00                  NaN   \n",
       "4  2016020003825  13/02/2016 00:10:00  13/02/2016 01:35:00   \n",
       "\n",
       "                                            Natureza EstadoOcorrencia  \\\n",
       "0  Protecção e Assistência a Pessoas e Bens / Ass...        Encerrada   \n",
       "1  Protecção e Assistência a Pessoas e Bens / Ass...         Em Curso   \n",
       "2  Protecção e Assistência a Pessoas e Bens / Ass...        Encerrada   \n",
       "3  Protecção e Assistência a Pessoas e Bens / Ass...         Em Curso   \n",
       "4  Protecção e Assistência a Pessoas e Bens / Ass...        Encerrada   \n",
       "\n",
       "         Distrito            Concelho                         Freguesia  \\\n",
       "0         SETÚBAL               MOITA  Gaio-Rosário e Sarilhos Pequenos   \n",
       "1          AVEIRO  ALBERGARIA-A-VELHA     Albergaria-a-Velha e Valmaior   \n",
       "2            BEJA        CASTRO VERDE            Castro Verde e Casével   \n",
       "3  CASTELO BRANCO         VILA DE REI                       Vila de Rei   \n",
       "4            BEJA        CASTRO VERDE          Santa Bárbara de Padrões   \n",
       "\n",
       "                                       Localidade     Latitude     Longitude  \\\n",
       "0                                   Gaio- Rosario  38,68091202  -9,002235449   \n",
       "1  Rua 25 de Abril - Assilhó - Albergaria-a-Velha   40,6927855  -8,479686736   \n",
       "2             CASTRO VERDE-Rua Bento J. Carraça,6  37,71278977  -8,091107843   \n",
       "3                                     Vila de Rei   39,6684201  -8,146938534   \n",
       "4                            SETE-Rua da Graça, 4   37,6149714  -7,962115173   \n",
       "\n",
       "   NumeroMeiosTerrestresEnvolvidos  NumeroOperacionaisTerrestresEnvolvidos  \\\n",
       "0                              1.0                                     3.0   \n",
       "1                              0.0                                     0.0   \n",
       "2                              2.0                                     4.0   \n",
       "3                              1.0                                     2.0   \n",
       "4                              1.0                                     2.0   \n",
       "\n",
       "   NumeroMeiosAereosEnvolvidos  NumeroOperacionaisAereosEnvolvidos  \n",
       "0                          0.0                                 0.0  \n",
       "1                          0.0                                 0.0  \n",
       "2                          0.0                                 0.0  \n",
       "3                          0.0                                 0.0  \n",
       "4                          0.0                                 0.0  "
      ]
     },
     "execution_count": 12,
     "metadata": {},
     "output_type": "execute_result"
    }
   ],
   "source": [
    "new_csv.head()"
   ]
  },
  {
   "cell_type": "code",
   "execution_count": null,
   "metadata": {},
   "outputs": [],
   "source": []
  }
 ],
 "metadata": {
  "kernelspec": {
   "display_name": "Python 3",
   "language": "python",
   "name": "python3"
  },
  "language_info": {
   "codemirror_mode": {
    "name": "ipython",
    "version": 3
   },
   "file_extension": ".py",
   "mimetype": "text/x-python",
   "name": "python",
   "nbconvert_exporter": "python",
   "pygments_lexer": "ipython3",
   "version": "3.7.6"
  }
 },
 "nbformat": 4,
 "nbformat_minor": 2
}
