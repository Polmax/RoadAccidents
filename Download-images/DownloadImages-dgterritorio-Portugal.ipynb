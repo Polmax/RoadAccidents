{
 "cells": [
  {
   "cell_type": "markdown",
   "metadata": {},
   "source": [
    "## Download sattelite images using the Web Map Service from"
   ]
  },
  {
   "cell_type": "code",
   "execution_count": 1,
   "metadata": {},
   "outputs": [],
   "source": [
    "from owslib.wms import WebMapService"
   ]
  },
  {
   "cell_type": "code",
   "execution_count": 2,
   "metadata": {},
   "outputs": [],
   "source": [
    "wms = WebMapService(\"http://ows.dgterritorio.pt/wss/service/IPSentinel2-wms/guest\")"
   ]
  },
  {
   "cell_type": "code",
   "execution_count": 3,
   "metadata": {},
   "outputs": [
    {
     "data": {
      "text/plain": [
       "'OGC:WMS'"
      ]
     },
     "execution_count": 3,
     "metadata": {},
     "output_type": "execute_result"
    }
   ],
   "source": [
    "wms.identification.type"
   ]
  },
  {
   "cell_type": "code",
   "execution_count": 4,
   "metadata": {},
   "outputs": [
    {
     "data": {
      "text/plain": [
       "['IPSentinel',\n",
       " 'S2PT10m',\n",
       " '2016-abr-mai-IRG',\n",
       " '2016-abr-mai-RGB',\n",
       " '2016-set-IRG',\n",
       " '2016-set-RGB',\n",
       " '2017-jan-abr-IRG',\n",
       " '2017-jan-abr-RGB',\n",
       " '2017-jul-IRG',\n",
       " '2017-jul-RGB',\n",
       " '2018-jan-IRG',\n",
       " '2018-jan-RGB',\n",
       " '2018-mar-abr-IRG',\n",
       " '2018-mar-abr-RGB',\n",
       " '2018-jul-ago-IRG',\n",
       " '2018-jul-ago-RGB',\n",
       " '2018-dez-2019-jan-IRG',\n",
       " '2018-dez-2019-jan-RGB',\n",
       " '2019-mar-abr-IRG',\n",
       " '2019-mar-abr-RGB']"
      ]
     },
     "execution_count": 4,
     "metadata": {},
     "output_type": "execute_result"
    }
   ],
   "source": [
    "list(wms.contents)"
   ]
  },
  {
   "cell_type": "code",
   "execution_count": 5,
   "metadata": {},
   "outputs": [
    {
     "data": {
      "text/plain": [
       "'2019-mar-abr-RGB'"
      ]
     },
     "execution_count": 5,
     "metadata": {},
     "output_type": "execute_result"
    }
   ],
   "source": [
    "wms['2019-mar-abr-RGB'].title"
   ]
  },
  {
   "cell_type": "code",
   "execution_count": 24,
   "metadata": {},
   "outputs": [
    {
     "data": {
      "text/plain": [
       "(-170000.0, -320000.0, 200000.0, 290000.0, 'EPSG:3763')"
      ]
     },
     "execution_count": 24,
     "metadata": {},
     "output_type": "execute_result"
    }
   ],
   "source": [
    "boxlong1,boxlat1,boxlong2,boxlat2,format = wms['2019-mar-abr-RGB'].boundingBox\n",
    "boxlong1,boxlat1,boxlong2,boxlat2,format"
   ]
  },
  {
   "cell_type": "code",
   "execution_count": 7,
   "metadata": {},
   "outputs": [
    {
     "data": {
      "text/plain": [
       "(-10.1934, 36.7643, -5.70954, 42.2796)"
      ]
     },
     "execution_count": 7,
     "metadata": {},
     "output_type": "execute_result"
    }
   ],
   "source": [
    "reallong1,reallat1,reallong2,reallat2 = wms['2019-mar-abr-RGB'].boundingBoxWGS84\n",
    "reallong1,reallat1,reallong2,reallat2"
   ]
  },
  {
   "cell_type": "code",
   "execution_count": 21,
   "metadata": {},
   "outputs": [
    {
     "data": {
      "text/plain": [
       "['image/png',\n",
       " 'image/jpeg',\n",
       " 'image/png; mode=8bit',\n",
       " 'application/x-pdf',\n",
       " 'image/svg+xml',\n",
       " 'image/tiff',\n",
       " 'application/vnd.google-earth.kml+xml',\n",
       " 'application/vnd.google-earth.kmz']"
      ]
     },
     "execution_count": 21,
     "metadata": {},
     "output_type": "execute_result"
    }
   ],
   "source": [
    "wms.getOperationByName('GetMap').formatOptions"
   ]
  },
  {
   "cell_type": "code",
   "execution_count": 22,
   "metadata": {},
   "outputs": [
    {
     "data": {
      "text/plain": [
       "['EPSG:4258', 'EPSG:3763', 'EPSG:4326', 'EPSG:900913', 'EPSG:3857']"
      ]
     },
     "execution_count": 22,
     "metadata": {},
     "output_type": "execute_result"
    }
   ],
   "source": [
    "wms['2019-mar-abr-RGB'].crsOptions"
   ]
  },
  {
   "cell_type": "code",
   "execution_count": 23,
   "metadata": {},
   "outputs": [
    {
     "data": {
      "text/plain": [
       "{'default': {'title': 'default',\n",
       "  'legend': 'http://ows.dgterritorio.pt/wss/service/IPSentinel2-wms/guest?language=por&version=1.1.1&service=WMS&request=GetLegendGraphic&layer=S2PT10m&format=image/png&STYLE=default'}}"
      ]
     },
     "execution_count": 23,
     "metadata": {},
     "output_type": "execute_result"
    }
   ],
   "source": [
    "wms['2019-mar-abr-RGB'].styles"
   ]
  },
  {
   "cell_type": "code",
   "execution_count": 27,
   "metadata": {},
   "outputs": [],
   "source": [
    "def download_image(long,lat,square_size):\n",
    "    print((boxlong2 - boxlong1) / (reallong2 - reallong1))\n",
    "    print((boxlat2 - boxlat1) / (reallat2 - reallat1))\n",
    "    mapx = (long - reallong1) * (boxlong2 - boxlong1) / (reallong2 - reallong1) + boxlong1\n",
    "    mapy = (lat - reallat1)  * (boxlat2 - boxlat1) / (reallat2 - reallat1) + boxlat1\n",
    "    print(mapx)\n",
    "    print(mapy)\n",
    "    img = wms.getmap( layers=['2019-mar-abr-RGB'],\n",
    "                    srs='EPSG:3763',\n",
    "                     bbox=(mapx - square_size,mapy - square_size ,mapx + square_size,mapy + square_size),\n",
    "                    size=(500,500),\n",
    "                format='image/jpeg',\n",
    "                Transparent=True)\n",
    "\n",
    "    out = open(\"wmsimage.jpg\",'wb')\n",
    "    out.write(img.read())\n",
    "    out.close()"
   ]
  },
  {
   "cell_type": "code",
   "execution_count": 28,
   "metadata": {},
   "outputs": [
    {
     "name": "stdout",
     "output_type": "stream",
     "text": [
      "82518.18745455923\n",
      "110601.41787391431\n",
      "-24198.614586539334\n",
      "208796.43899697193\n"
     ]
    }
   ],
   "source": [
    "download_image(-8.4265,41.5454,1000)"
   ]
  },
  {
   "cell_type": "code",
   "execution_count": null,
   "metadata": {},
   "outputs": [],
   "source": []
  }
 ],
 "metadata": {
  "kernelspec": {
   "display_name": "Python 3",
   "language": "python",
   "name": "python3"
  },
  "language_info": {
   "codemirror_mode": {
    "name": "ipython",
    "version": 3
   },
   "file_extension": ".py",
   "mimetype": "text/x-python",
   "name": "python",
   "nbconvert_exporter": "python",
   "pygments_lexer": "ipython3",
   "version": "3.7.6"
  }
 },
 "nbformat": 4,
 "nbformat_minor": 2
}
